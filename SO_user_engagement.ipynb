{
 "cells": [
  {
   "cell_type": "code",
   "execution_count": 1,
   "metadata": {},
   "outputs": [],
   "source": [
    "# Import libraries\n",
    "from dotenv import load_dotenv\n",
    "import os\n",
    "import psycopg2\n",
    "import pandas as pd\n",
    "import matplotlib.pyplot as plt\n",
    "import seaborn as sns\n",
    "import ipywidgets as widgets\n",
    "from IPython.display import display, clear_output\n",
    "from sqlalchemy import create_engine"
   ]
  },
  {
   "cell_type": "code",
   "execution_count": 2,
   "metadata": {},
   "outputs": [],
   "source": [
    "# Load environment variables\n",
    "load_dotenv()\n",
    "db_user = os.getenv('DB_USER')\n",
    "db_password = os.getenv('DB_PASSWORD')\n",
    "db_host = os.getenv('DB_HOST')\n",
    "db_name = os.getenv('DB_NAME')"
   ]
  },
  {
   "cell_type": "code",
   "execution_count": 3,
   "metadata": {},
   "outputs": [],
   "source": [
    "# Connect to the Stack Overflow database\n",
    "conn = psycopg2.connect(\n",
    "    host=db_host,\n",
    "    database=db_name,\n",
    "    user=db_user,\n",
    "    password=db_password\n",
    ")"
   ]
  },
  {
   "cell_type": "code",
   "execution_count": 4,
   "metadata": {},
   "outputs": [],
   "source": [
    "# With the env variables loaded we can insert them into the engine connection string.\n",
    "engine = create_engine(f\"postgresql+psycopg2://{db_user}:{db_password}@{db_host}/{db_name}\")\n",
    "connection = engine.connect()"
   ]
  },
  {
   "cell_type": "code",
   "execution_count": 5,
   "metadata": {},
   "outputs": [],
   "source": [
    "\n",
    "# Define HEART metrics for Stack Overflow\n",
    "heart_metrics = {\n",
    "    'Happiness': 'Measure of user satisfaction and happiness with the Questions & Answers product.',\n",
    "    'Engagement': 'Measure of user interaction and activity on the platform.',\n",
    "    'Adoption': 'Measure of user acquisition and growth of Stack Overflow user base.',\n",
    "    'Retention': 'Measure of user retention and continued usage of the platform over time.',\n",
    "    'Task Success': 'Measure of user ability to accomplish their goals and tasks effectively on Stack Overflow.'\n",
    "}"
   ]
  },
  {
   "cell_type": "markdown",
   "metadata": {},
   "source": [
    "# Stack Overflow User Engagement Analysis\n",
    "\n",
    "This analysis will focus on the engagement of user accounts that have been active in the last year. The decision to focus only on recently active accounts has been made to conserve time and computing resources as these accounts will provide the greatest insight into decisions made affecting SO's future. Analysis of accounts that have not been active since 2015 (for example) may be interesting, but is unlikely to be useful in the scope of this analysis. \n",
    "\n",
    "Engagement is defined as per the HEART metrics system which was developed by Google."
   ]
  },
  {
   "cell_type": "code",
   "execution_count": 6,
   "metadata": {},
   "outputs": [
    {
     "name": "stdout",
     "output_type": "stream",
     "text": [
      "Happiness: Measure of user satisfaction and happiness with the Questions & Answers product.\n",
      "Engagement: Measure of user interaction and activity on the platform.\n",
      "Adoption: Measure of user acquisition and growth of Stack Overflow user base.\n",
      "Retention: Measure of user retention and continued usage of the platform over time.\n",
      "Task Success: Measure of user ability to accomplish their goals and tasks effectively on Stack Overflow.\n"
     ]
    }
   ],
   "source": [
    "for key, description in heart_metrics.items():\n",
    "    print(f\"{key}: {description}\")"
   ]
  },
  {
   "cell_type": "markdown",
   "metadata": {},
   "source": [
    "## Initial analysis of engaged users\n",
    "\n",
    "In order to conduct this analysis we will need to decide what to count as an 'engaged' user. For example, we could say that a user logging in to their account would be considered engaged. Or perhaps engaged means to have posted a question? What about posting a comment? Or an answer?\n",
    "\n",
    "For the purposes of this initial analysis we will consider an engaged user to be one that has been active in the last year and has posted either a question, answer, or comment in that time.\n",
    "\n",
    "The first step in analysis is to pull the necessary data from the database. "
   ]
  },
  {
   "cell_type": "code",
   "execution_count": 7,
   "metadata": {},
   "outputs": [],
   "source": [
    "query = \"\"\"SELECT users.id AS user_id, users.display_name,\n",
    "        posts.id AS post_id, comments.id AS comment_id\n",
    "FROM (\n",
    "    SELECT id, display_name\n",
    "    FROM users\n",
    "    WHERE last_access_date >= CURRENT_DATE - interval '1 year'\n",
    ") users\n",
    "LEFT JOIN posts ON users.id = posts.owner_user_id\n",
    "LEFT JOIN comments ON users.id = comments.user_id\n",
    "\"\"\"\n",
    "\n",
    "df = pd.read_sql(query, connection)\n",
    "\n",
    "df"
   ]
  },
  {
   "cell_type": "markdown",
   "metadata": {},
   "source": [
    "Now we can determine how many of these accounts have created at least one post."
   ]
  },
  {
   "cell_type": "code",
   "execution_count": null,
   "metadata": {},
   "outputs": [
    {
     "name": "stdout",
     "output_type": "stream",
     "text": [
      "Number of users with a post title: 1080618\n",
      "Number of users without a post title: 2802280\n"
     ]
    }
   ],
   "source": [
    "engaged_users = df[df['post_id'].notnull()]['id'].nunique()\n",
    "disengaged_users = df[df['post_id'].isnull()]['id'].nunique()\n",
    "\n",
    "print(f\"Number of users with a post title: {engaged_users}\")\n",
    "print(f\"Number of users without a post title: {disengaged_users}\")"
   ]
  }
 ],
 "metadata": {
  "kernelspec": {
   "display_name": "stack_overflow_analysis_venv",
   "language": "python",
   "name": "python3"
  },
  "language_info": {
   "codemirror_mode": {
    "name": "ipython",
    "version": 3
   },
   "file_extension": ".py",
   "mimetype": "text/x-python",
   "name": "python",
   "nbconvert_exporter": "python",
   "pygments_lexer": "ipython3",
   "version": "3.11.6"
  }
 },
 "nbformat": 4,
 "nbformat_minor": 2
}
